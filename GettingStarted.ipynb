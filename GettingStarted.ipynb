{
 "cells": [
  {
   "cell_type": "markdown",
   "id": "e06aec18",
   "metadata": {},
   "source": [
    "# This is Heading\n",
    "- Data Type"
   ]
  },
  {
   "cell_type": "markdown",
   "id": "3a4cd1bc",
   "metadata": {},
   "source": [
    "## This is smaller Heading."
   ]
  },
  {
   "cell_type": "raw",
   "id": "2731feab",
   "metadata": {},
   "source": [
    "This is notebook convert"
   ]
  },
  {
   "cell_type": "markdown",
   "id": "e3f43255",
   "metadata": {},
   "source": [
    "This is Markdown"
   ]
  },
  {
   "cell_type": "code",
   "execution_count": 8,
   "id": "bb97a4ad",
   "metadata": {},
   "outputs": [
    {
     "data": {
      "text/plain": [
       "2"
      ]
     },
     "execution_count": 8,
     "metadata": {},
     "output_type": "execute_result"
    }
   ],
   "source": [
    "1+1"
   ]
  },
  {
   "cell_type": "code",
   "execution_count": 3,
   "id": "ce011dfc",
   "metadata": {},
   "outputs": [
    {
     "name": "stdout",
     "output_type": "stream",
     "text": [
      "Hi\n"
     ]
    }
   ],
   "source": [
    "print(\"Hi\")"
   ]
  },
  {
   "cell_type": "code",
   "execution_count": 4,
   "id": "530d53a7",
   "metadata": {},
   "outputs": [],
   "source": [
    "#Hi this is comments."
   ]
  },
  {
   "cell_type": "code",
   "execution_count": 2,
   "id": "d2708c50",
   "metadata": {},
   "outputs": [
    {
     "data": {
      "text/plain": [
       "32"
      ]
     },
     "execution_count": 2,
     "metadata": {},
     "output_type": "execute_result"
    }
   ],
   "source": [
    "4*8"
   ]
  },
  {
   "cell_type": "code",
   "execution_count": 5,
   "id": "a197a951",
   "metadata": {},
   "outputs": [],
   "source": [
    "#This is multi line Comment.\n",
    "#this is second line of comments."
   ]
  },
  {
   "cell_type": "code",
   "execution_count": 7,
   "id": "2b1ff35d",
   "metadata": {},
   "outputs": [
    {
     "data": {
      "text/plain": [
       "'This is description not comment\\nAnd this is 2nd line'"
      ]
     },
     "execution_count": 7,
     "metadata": {},
     "output_type": "execute_result"
    }
   ],
   "source": [
    "'''This is description not comment\n",
    "And this is 2nd line'''"
   ]
  },
  {
   "cell_type": "code",
   "execution_count": 9,
   "id": "e9b5595b",
   "metadata": {},
   "outputs": [
    {
     "data": {
      "text/plain": [
       "'RamRamRamRamRam'"
      ]
     },
     "execution_count": 9,
     "metadata": {},
     "output_type": "execute_result"
    }
   ],
   "source": [
    "5*'Ram'"
   ]
  },
  {
   "cell_type": "code",
   "execution_count": 10,
   "id": "939d4813",
   "metadata": {},
   "outputs": [
    {
     "data": {
      "text/plain": [
       "1000"
      ]
     },
     "execution_count": 10,
     "metadata": {},
     "output_type": "execute_result"
    }
   ],
   "source": [
    "10**3"
   ]
  },
  {
   "cell_type": "code",
   "execution_count": 11,
   "id": "76e6bf99",
   "metadata": {},
   "outputs": [
    {
     "data": {
      "text/plain": [
       "int"
      ]
     },
     "execution_count": 11,
     "metadata": {},
     "output_type": "execute_result"
    }
   ],
   "source": [
    "type(123)"
   ]
  },
  {
   "cell_type": "code",
   "execution_count": 13,
   "id": "47c2475f",
   "metadata": {},
   "outputs": [
    {
     "data": {
      "text/plain": [
       "str"
      ]
     },
     "execution_count": 13,
     "metadata": {},
     "output_type": "execute_result"
    }
   ],
   "source": [
    "type(\"vikash\")"
   ]
  },
  {
   "cell_type": "code",
   "execution_count": 14,
   "id": "ac731094",
   "metadata": {},
   "outputs": [
    {
     "name": "stdout",
     "output_type": "stream",
     "text": [
      "to get the description of inbuilt function, press shift+tab. It will show all the parameters.\n"
     ]
    }
   ],
   "source": [
    "print(\"to get the description of inbuilt function, press shift+tab. It will show all the parameters.\")"
   ]
  },
  {
   "cell_type": "code",
   "execution_count": 20,
   "id": "6f16d479",
   "metadata": {},
   "outputs": [],
   "source": [
    "fname = \"vikash\"\n",
    "lname = \"kumar\"\n",
    "cityname = \"pune\""
   ]
  },
  {
   "cell_type": "code",
   "execution_count": 18,
   "id": "36a78d8a",
   "metadata": {},
   "outputs": [
    {
     "name": "stdout",
     "output_type": "stream",
     "text": [
      "My first name is vikash and last name is kumar\n"
     ]
    }
   ],
   "source": [
    "print(\"My first name is {} and last name is {}\".format(fname,lname))"
   ]
  },
  {
   "cell_type": "code",
   "execution_count": 23,
   "id": "7be1d7aa",
   "metadata": {},
   "outputs": [
    {
     "name": "stdout",
     "output_type": "stream",
     "text": [
      "My first name is vikash and last name is kumar. And city is pune.\n"
     ]
    }
   ],
   "source": [
    "print(\"My first name is {first} and last name is {last}. And city is {city}.\".format(first=fname,city=cityname,last=lname))\n",
    "\n",
    "# Here we dont need to use the order"
   ]
  },
  {
   "cell_type": "code",
   "execution_count": 26,
   "id": "7d4d6056",
   "metadata": {},
   "outputs": [
    {
     "name": "stdout",
     "output_type": "stream",
     "text": [
      "4\n",
      "vikashkumar\n"
     ]
    }
   ],
   "source": [
    "print(len(cityname))\n",
    "print(fname+lname)"
   ]
  },
  {
   "cell_type": "code",
   "execution_count": null,
   "id": "f1dc644b",
   "metadata": {},
   "outputs": [],
   "source": []
  }
 ],
 "metadata": {
  "kernelspec": {
   "display_name": "Python 3",
   "language": "python",
   "name": "python3"
  },
  "language_info": {
   "codemirror_mode": {
    "name": "ipython",
    "version": 3
   },
   "file_extension": ".py",
   "mimetype": "text/x-python",
   "name": "python",
   "nbconvert_exporter": "python",
   "pygments_lexer": "ipython3",
   "version": "3.8.8"
  }
 },
 "nbformat": 4,
 "nbformat_minor": 5
}
