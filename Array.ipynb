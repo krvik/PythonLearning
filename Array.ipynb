{
 "cells": [
  {
   "cell_type": "markdown",
   "id": "e257d354",
   "metadata": {},
   "source": [
    "# Array"
   ]
  },
  {
   "cell_type": "markdown",
   "id": "38019ad7",
   "metadata": {},
   "source": [
    "Array is data structure which can hold more than one value at the same time.\n",
    "It holds data in ordered manner of same type of data."
   ]
  },
  {
   "cell_type": "markdown",
   "id": "f80e2452",
   "metadata": {},
   "source": [
    "## Array vs List\n",
    "- List can store different data type value while array can store only one data type.\n",
    "- Performing similar operation on array and list is same. But, list will find difficulty when list is multiplied by 4; bcz of different data type. And array can do this operation easily."
   ]
  },
  {
   "cell_type": "code",
   "execution_count": 1,
   "id": "68ceed40",
   "metadata": {},
   "outputs": [
    {
     "data": {
      "text/plain": [
       "'To use array, we need to import array moodule.\\nThere are three ways to do that.\\n'"
      ]
     },
     "execution_count": 1,
     "metadata": {},
     "output_type": "execute_result"
    }
   ],
   "source": [
    "'''To use array, we need to import array moodule.\n",
    "There are three ways to do that.\n",
    "'''"
   ]
  },
  {
   "cell_type": "code",
   "execution_count": 2,
   "id": "2d65eb2c",
   "metadata": {},
   "outputs": [
    {
     "name": "stdout",
     "output_type": "stream",
     "text": [
      "array('i', [1, 2, 3, 4, 45, 33])\n"
     ]
    }
   ],
   "source": [
    "import array\n",
    "# import array as arr\n",
    "# from array import *\n",
    "\n",
    "#   moudle_name.type_constructor(dataType, data)\n",
    "a = array.array('i',[1,2,3,4,45,33])\n",
    "print(a)\n"
   ]
  },
  {
   "cell_type": "markdown",
   "id": "4c1dace0",
   "metadata": {},
   "source": [
    "### Accessing array element"
   ]
  },
  {
   "cell_type": "code",
   "execution_count": 16,
   "id": "dba18188",
   "metadata": {},
   "outputs": [
    {
     "name": "stdout",
     "output_type": "stream",
     "text": [
      "4\n",
      "45\n",
      "33\n"
     ]
    }
   ],
   "source": [
    "print(a[3])\n",
    "print(a[4])\n",
    "print(a[5])\n",
    "'''Here outputs are not in order. WHY??'''"
   ]
  },
  {
   "cell_type": "code",
   "execution_count": 26,
   "id": "63d1d47f",
   "metadata": {},
   "outputs": [
    {
     "data": {
      "text/plain": [
       "array('d', [1.1, 4.5, 3.2, 5.9])"
      ]
     },
     "execution_count": 26,
     "metadata": {},
     "output_type": "execute_result"
    }
   ],
   "source": [
    "b = array.array('d',[1.1,4.5,3.2,5.9])\n",
    "b"
   ]
  },
  {
   "cell_type": "code",
   "execution_count": 19,
   "id": "acaa66f0",
   "metadata": {},
   "outputs": [
    {
     "data": {
      "text/plain": [
       "4"
      ]
     },
     "execution_count": 19,
     "metadata": {},
     "output_type": "execute_result"
    }
   ],
   "source": [
    "len(b)"
   ]
  },
  {
   "cell_type": "markdown",
   "id": "fd7d9b1f",
   "metadata": {},
   "source": [
    "### Adding elements to an array.\n",
    "-append(): used when only one element added at the end of array.\n",
    "-extend(): used when we add multiple element at the end of array and \n",
    "-insert(): used when we add element at particular index"
   ]
  },
  {
   "cell_type": "code",
   "execution_count": 3,
   "id": "84fc24f2",
   "metadata": {},
   "outputs": [
    {
     "data": {
      "text/plain": [
       "array('i', [1, 2, 3, 4, 45, 33])"
      ]
     },
     "execution_count": 3,
     "metadata": {},
     "output_type": "execute_result"
    }
   ],
   "source": [
    "a"
   ]
  },
  {
   "cell_type": "code",
   "execution_count": 4,
   "id": "7be93417",
   "metadata": {},
   "outputs": [
    {
     "name": "stdout",
     "output_type": "stream",
     "text": [
      "array('i', [1, 2, 3, 4, 45, 33, 8])\n"
     ]
    },
    {
     "data": {
      "text/plain": [
       "7"
      ]
     },
     "execution_count": 4,
     "metadata": {},
     "output_type": "execute_result"
    }
   ],
   "source": [
    "a.append(8)\n",
    "print(a)\n",
    "len(a)"
   ]
  },
  {
   "cell_type": "code",
   "execution_count": 5,
   "id": "8bd52186",
   "metadata": {},
   "outputs": [
    {
     "name": "stdout",
     "output_type": "stream",
     "text": [
      "array('i', [1, 2, 3, 4, 45, 33, 8, 10, 11, 12])\n"
     ]
    },
    {
     "data": {
      "text/plain": [
       "10"
      ]
     },
     "execution_count": 5,
     "metadata": {},
     "output_type": "execute_result"
    }
   ],
   "source": [
    "a.extend([10,11,12])\n",
    "print(a)\n",
    "len(a)"
   ]
  },
  {
   "cell_type": "code",
   "execution_count": 6,
   "id": "a54012bf",
   "metadata": {},
   "outputs": [
    {
     "name": "stdout",
     "output_type": "stream",
     "text": [
      "array('i', [1, 2, 3, 4, 5, 45, 33, 8, 10, 11, 12])\n"
     ]
    },
    {
     "data": {
      "text/plain": [
       "11"
      ]
     },
     "execution_count": 6,
     "metadata": {},
     "output_type": "execute_result"
    }
   ],
   "source": [
    "a.insert(4,5)\n",
    "print(a)\n",
    "len(a)"
   ]
  },
  {
   "cell_type": "markdown",
   "id": "16540143",
   "metadata": {},
   "source": [
    "### Removing the element: using pop() and remove() function."
   ]
  },
  {
   "cell_type": "code",
   "execution_count": 8,
   "id": "973c5fd5",
   "metadata": {},
   "outputs": [
    {
     "data": {
      "text/plain": [
       "'Pop(): it removes the ement and return it. It takes no/one parameter\\nIn no parameter case, it remove element at end. and for parameter case, it takes position of element to be removed'"
      ]
     },
     "execution_count": 8,
     "metadata": {},
     "output_type": "execute_result"
    }
   ],
   "source": [
    "'''Pop(): it removes the ement and return it. It takes no/one parameter\n",
    "In no parameter case, it remove element at end. and for parameter case, it takes position of element to be removed'''"
   ]
  },
  {
   "cell_type": "code",
   "execution_count": 9,
   "id": "f2d1ab56",
   "metadata": {},
   "outputs": [
    {
     "name": "stdout",
     "output_type": "stream",
     "text": [
      "array('i', [1, 2, 3, 4, 5, 45, 33, 8, 10, 11])\n"
     ]
    },
    {
     "data": {
      "text/plain": [
       "10"
      ]
     },
     "execution_count": 9,
     "metadata": {},
     "output_type": "execute_result"
    }
   ],
   "source": [
    "a.pop()\n",
    "print(a)\n",
    "len(a)"
   ]
  },
  {
   "cell_type": "code",
   "execution_count": 10,
   "id": "13a9cc83",
   "metadata": {},
   "outputs": [
    {
     "name": "stdout",
     "output_type": "stream",
     "text": [
      "array('i', [2, 3, 4, 5, 45, 33, 8, 10, 11])\n"
     ]
    },
    {
     "data": {
      "text/plain": [
       "9"
      ]
     },
     "execution_count": 10,
     "metadata": {},
     "output_type": "execute_result"
    }
   ],
   "source": [
    "a.pop(0)\n",
    "print(a)\n",
    "len(a)"
   ]
  },
  {
   "cell_type": "code",
   "execution_count": 11,
   "id": "d8591363",
   "metadata": {},
   "outputs": [
    {
     "data": {
      "text/plain": [
       "'remove(): it accepts value needs to be removed.'"
      ]
     },
     "execution_count": 11,
     "metadata": {},
     "output_type": "execute_result"
    }
   ],
   "source": [
    "'''remove(): it accepts value needs to be removed.'''"
   ]
  },
  {
   "cell_type": "code",
   "execution_count": 12,
   "id": "71d7a538",
   "metadata": {},
   "outputs": [
    {
     "name": "stdout",
     "output_type": "stream",
     "text": [
      "array('i', [2, 3, 4, 5, 45, 8, 10, 11])\n"
     ]
    },
    {
     "data": {
      "text/plain": [
       "8"
      ]
     },
     "execution_count": 12,
     "metadata": {},
     "output_type": "execute_result"
    }
   ],
   "source": [
    "a.remove(33)\n",
    "print(a)\n",
    "len(a)"
   ]
  },
  {
   "cell_type": "code",
   "execution_count": 13,
   "id": "8a81ac6b",
   "metadata": {},
   "outputs": [
    {
     "name": "stdout",
     "output_type": "stream",
     "text": [
      "array('i', [2, 3, 4, 5, 45, 8, 10, 11, 5, 8, 9])\n"
     ]
    },
    {
     "data": {
      "text/plain": [
       "11"
      ]
     },
     "execution_count": 13,
     "metadata": {},
     "output_type": "execute_result"
    }
   ],
   "source": [
    "'''whhat happen, if multiple values are present'''\n",
    "a.extend([5,8,9])\n",
    "print(a)\n",
    "len(a)"
   ]
  },
  {
   "cell_type": "code",
   "execution_count": 14,
   "id": "46c1de4c",
   "metadata": {},
   "outputs": [
    {
     "name": "stdout",
     "output_type": "stream",
     "text": [
      "array('i', [2, 3, 4, 45, 8, 10, 11, 5, 8, 9])\n"
     ]
    },
    {
     "data": {
      "text/plain": [
       "10"
      ]
     },
     "execution_count": 14,
     "metadata": {},
     "output_type": "execute_result"
    }
   ],
   "source": [
    "a.remove(5)\n",
    "print(a)\n",
    "len(a)"
   ]
  },
  {
   "cell_type": "code",
   "execution_count": 15,
   "id": "6d1aa1ab",
   "metadata": {},
   "outputs": [
    {
     "name": "stdout",
     "output_type": "stream",
     "text": [
      "array('i', [2, 3, 4, 45, 10, 11, 5, 8, 9])\n"
     ]
    },
    {
     "data": {
      "text/plain": [
       "9"
      ]
     },
     "execution_count": 15,
     "metadata": {},
     "output_type": "execute_result"
    }
   ],
   "source": [
    "a.remove(8)\n",
    "print(a)\n",
    "len(a)"
   ]
  },
  {
   "cell_type": "code",
   "execution_count": 16,
   "id": "4476cfc0",
   "metadata": {},
   "outputs": [
    {
     "data": {
      "text/plain": [
       "'Hece, it removes only first matching element, if multiple same element are there.'"
      ]
     },
     "execution_count": 16,
     "metadata": {},
     "output_type": "execute_result"
    }
   ],
   "source": [
    "'''Hece, it removes only first matching element, if multiple same element are there.'''"
   ]
  },
  {
   "cell_type": "code",
   "execution_count": 18,
   "id": "f203c141",
   "metadata": {},
   "outputs": [
    {
     "data": {
      "text/plain": [
       "array('i', [2, 3, 4, 45, 10, 11, 5, 8, 9])"
      ]
     },
     "execution_count": 18,
     "metadata": {},
     "output_type": "execute_result"
    }
   ],
   "source": [
    "a"
   ]
  },
  {
   "cell_type": "code",
   "execution_count": 19,
   "id": "6abbe0c2",
   "metadata": {},
   "outputs": [
    {
     "data": {
      "text/plain": [
       "9"
      ]
     },
     "execution_count": 19,
     "metadata": {},
     "output_type": "execute_result"
    }
   ],
   "source": [
    "a.pop()"
   ]
  },
  {
   "cell_type": "code",
   "execution_count": 22,
   "id": "30ec4d78",
   "metadata": {},
   "outputs": [],
   "source": [
    "a.remove(10)"
   ]
  },
  {
   "cell_type": "code",
   "execution_count": 23,
   "id": "c2f8e1b4",
   "metadata": {},
   "outputs": [
    {
     "data": {
      "text/plain": [
       "'As u can see, pop is returning the value; while remove not.'"
      ]
     },
     "execution_count": 23,
     "metadata": {},
     "output_type": "execute_result"
    }
   ],
   "source": [
    "'As u can see, pop is returning the value; while remove not.'"
   ]
  },
  {
   "cell_type": "code",
   "execution_count": 24,
   "id": "e4d72ccf",
   "metadata": {},
   "outputs": [
    {
     "data": {
      "text/plain": [
       "array('i', [2, 4, 45, 11, 5, 8])"
      ]
     },
     "execution_count": 24,
     "metadata": {},
     "output_type": "execute_result"
    }
   ],
   "source": [
    "a"
   ]
  },
  {
   "cell_type": "markdown",
   "id": "3e6703a3",
   "metadata": {},
   "source": [
    "### Concatanation of array"
   ]
  },
  {
   "cell_type": "code",
   "execution_count": 27,
   "id": "f94348c9",
   "metadata": {},
   "outputs": [
    {
     "data": {
      "text/plain": [
       "array('d', [1.1, 4.5, 3.2, 5.9])"
      ]
     },
     "execution_count": 27,
     "metadata": {},
     "output_type": "execute_result"
    }
   ],
   "source": [
    "b"
   ]
  },
  {
   "cell_type": "code",
   "execution_count": 28,
   "id": "c3294857",
   "metadata": {},
   "outputs": [],
   "source": [
    "c = array.array('d',[3.6,6.8,1.0])"
   ]
  },
  {
   "cell_type": "code",
   "execution_count": 29,
   "id": "ec6db4db",
   "metadata": {},
   "outputs": [
    {
     "name": "stdout",
     "output_type": "stream",
     "text": [
      "array('d', [1.1, 4.5, 3.2, 5.9, 3.6, 6.8, 1.0])\n",
      "array('d', [3.6, 6.8, 1.0, 1.1, 4.5, 3.2, 5.9])\n"
     ]
    },
    {
     "data": {
      "text/plain": [
       "7"
      ]
     },
     "execution_count": 29,
     "metadata": {},
     "output_type": "execute_result"
    }
   ],
   "source": [
    "#concat is possible, only with same data type\n",
    "d = b+c\n",
    "e = c+b\n",
    "print(d)\n",
    "print(e)\n",
    "len(e)"
   ]
  },
  {
   "cell_type": "markdown",
   "id": "bfb59b3c",
   "metadata": {},
   "source": [
    "### slicing of an array"
   ]
  },
  {
   "cell_type": "code",
   "execution_count": 30,
   "id": "8bcd700c",
   "metadata": {},
   "outputs": [
    {
     "data": {
      "text/plain": [
       "array('i', [2, 4, 45, 11, 5, 8])"
      ]
     },
     "execution_count": 30,
     "metadata": {},
     "output_type": "execute_result"
    }
   ],
   "source": [
    "a"
   ]
  },
  {
   "cell_type": "code",
   "execution_count": 31,
   "id": "b9a6dd6b",
   "metadata": {},
   "outputs": [],
   "source": [
    "f=a[0:3]"
   ]
  },
  {
   "cell_type": "code",
   "execution_count": 32,
   "id": "f7c90048",
   "metadata": {},
   "outputs": [
    {
     "data": {
      "text/plain": [
       "array('i', [2, 4, 45])"
      ]
     },
     "execution_count": 32,
     "metadata": {},
     "output_type": "execute_result"
    }
   ],
   "source": [
    "f"
   ]
  },
  {
   "cell_type": "code",
   "execution_count": 33,
   "id": "600c7021",
   "metadata": {},
   "outputs": [
    {
     "data": {
      "text/plain": [
       "array('i', [2, 4, 45, 11, 5, 8])"
      ]
     },
     "execution_count": 33,
     "metadata": {},
     "output_type": "execute_result"
    }
   ],
   "source": [
    "a"
   ]
  },
  {
   "cell_type": "code",
   "execution_count": null,
   "id": "668cfdac",
   "metadata": {},
   "outputs": [],
   "source": []
  }
 ],
 "metadata": {
  "kernelspec": {
   "display_name": "Python 3",
   "language": "python",
   "name": "python3"
  },
  "language_info": {
   "codemirror_mode": {
    "name": "ipython",
    "version": 3
   },
   "file_extension": ".py",
   "mimetype": "text/x-python",
   "name": "python",
   "nbconvert_exporter": "python",
   "pygments_lexer": "ipython3",
   "version": "3.8.8"
  }
 },
 "nbformat": 4,
 "nbformat_minor": 5
}
