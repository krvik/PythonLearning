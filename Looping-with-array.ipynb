{
 "cells": [
  {
   "cell_type": "markdown",
   "id": "18eec175",
   "metadata": {},
   "source": [
    "## Looping with Arraay\n",
    "- for loop and while loop"
   ]
  },
  {
   "cell_type": "markdown",
   "id": "ef94b7e1",
   "metadata": {},
   "source": [
    "- For Loop: iterates over item for specific number of times."
   ]
  },
  {
   "cell_type": "markdown",
   "id": "ff75bc5a",
   "metadata": {},
   "source": [
    "- while loop: it iterates over item until stop condition is met. It need initialization, condition and increment. If you don't increment your itrerator, while loop will go forever."
   ]
  },
  {
   "cell_type": "code",
   "execution_count": 1,
   "id": "1f25fa0b",
   "metadata": {},
   "outputs": [],
   "source": [
    "import array as arr"
   ]
  },
  {
   "cell_type": "code",
   "execution_count": 3,
   "id": "c8d93005",
   "metadata": {},
   "outputs": [
    {
     "data": {
      "text/plain": [
       "array('i', [1, 2, 3, 4])"
      ]
     },
     "execution_count": 3,
     "metadata": {},
     "output_type": "execute_result"
    }
   ],
   "source": [
    "a = arr.array('i',[1,2,3,4])\n",
    "a"
   ]
  },
  {
   "cell_type": "code",
   "execution_count": 5,
   "id": "76af85d6",
   "metadata": {},
   "outputs": [
    {
     "name": "stdout",
     "output_type": "stream",
     "text": [
      "1\n",
      "2\n",
      "3\n",
      "4\n"
     ]
    }
   ],
   "source": [
    "for x in a:\n",
    "    print(x)"
   ]
  },
  {
   "cell_type": "code",
   "execution_count": 6,
   "id": "0cea131f",
   "metadata": {},
   "outputs": [
    {
     "name": "stdout",
     "output_type": "stream",
     "text": [
      "1\n",
      "2\n"
     ]
    }
   ],
   "source": [
    "for x in a[0:2]:\n",
    "    print(x)"
   ]
  },
  {
   "cell_type": "code",
   "execution_count": 8,
   "id": "ebb9d637",
   "metadata": {},
   "outputs": [
    {
     "data": {
      "text/plain": [
       "array('i', [1, 4, 2, 8, 2, 9, 90, 43, 12, 34, 2, 9, -8, 11, 43, -22])"
      ]
     },
     "execution_count": 8,
     "metadata": {},
     "output_type": "execute_result"
    }
   ],
   "source": [
    "b = arr.array('i',[1,4,2,8,2,9,90,43,12,34,2,9,-8,11,43,-22])\n",
    "b"
   ]
  },
  {
   "cell_type": "code",
   "execution_count": 9,
   "id": "a232af86",
   "metadata": {},
   "outputs": [
    {
     "name": "stdout",
     "output_type": "stream",
     "text": [
      "2\n",
      "8\n",
      "2\n",
      "9\n",
      "90\n",
      "43\n"
     ]
    }
   ],
   "source": [
    "for x in b[2:8]:\n",
    "    print(x)"
   ]
  },
  {
   "cell_type": "code",
   "execution_count": 10,
   "id": "523763c6",
   "metadata": {},
   "outputs": [
    {
     "name": "stdout",
     "output_type": "stream",
     "text": [
      "8\n",
      "2\n",
      "9\n",
      "90\n",
      "43\n",
      "12\n",
      "34\n",
      "2\n",
      "9\n",
      "-8\n",
      "11\n"
     ]
    }
   ],
   "source": [
    "for x in b[3:-2]:\n",
    "    print(x)"
   ]
  },
  {
   "cell_type": "code",
   "execution_count": 12,
   "id": "2e8db270",
   "metadata": {},
   "outputs": [],
   "source": [
    "for x in b[-2:5]:\n",
    "    print(x)"
   ]
  },
  {
   "cell_type": "code",
   "execution_count": 13,
   "id": "e3eb7fdf",
   "metadata": {},
   "outputs": [
    {
     "data": {
      "text/plain": [
       "array('i', [1, 4, 2, 8, 2, 9, 90, 43, 12, 34, 2, 9, -8, 11, 43, -22])"
      ]
     },
     "execution_count": 13,
     "metadata": {},
     "output_type": "execute_result"
    }
   ],
   "source": [
    "b"
   ]
  },
  {
   "cell_type": "markdown",
   "id": "8c072a51",
   "metadata": {},
   "source": [
    "## while loop:"
   ]
  },
  {
   "cell_type": "code",
   "execution_count": 15,
   "id": "0d5c64f9",
   "metadata": {},
   "outputs": [
    {
     "name": "stdout",
     "output_type": "stream",
     "text": [
      "1\n",
      "4\n",
      "2\n",
      "8\n",
      "2\n"
     ]
    }
   ],
   "source": [
    "#initializing the iterator\n",
    "i=0\n",
    "\n",
    "#condition\n",
    "while i<5:\n",
    "    print(b[i])\n",
    "    i=i+1        #incrementing the iterator"
   ]
  },
  {
   "cell_type": "code",
   "execution_count": 19,
   "id": "aff9b23f",
   "metadata": {},
   "outputs": [
    {
     "name": "stdout",
     "output_type": "stream",
     "text": [
      "1\n",
      "4\n",
      "2\n",
      "8\n",
      "2\n",
      "9\n",
      "90\n",
      "43\n",
      "12\n",
      "34\n",
      "2\n",
      "9\n",
      "-8\n",
      "11\n",
      "43\n",
      "-22\n"
     ]
    },
    {
     "ename": "IndexError",
     "evalue": "array index out of range",
     "output_type": "error",
     "traceback": [
      "\u001b[1;31m---------------------------------------------------------------------------\u001b[0m",
      "\u001b[1;31mIndexError\u001b[0m                                Traceback (most recent call last)",
      "\u001b[1;32m<ipython-input-19-d3a633db6452>\u001b[0m in \u001b[0;36m<module>\u001b[1;34m\u001b[0m\n\u001b[0;32m      2\u001b[0m \u001b[1;33m\u001b[0m\u001b[0m\n\u001b[0;32m      3\u001b[0m \u001b[1;32mwhile\u001b[0m \u001b[0miter\u001b[0m\u001b[1;33m<=\u001b[0m\u001b[0mlen\u001b[0m\u001b[1;33m(\u001b[0m\u001b[0mb\u001b[0m\u001b[1;33m)\u001b[0m\u001b[1;33m:\u001b[0m\u001b[1;33m\u001b[0m\u001b[1;33m\u001b[0m\u001b[0m\n\u001b[1;32m----> 4\u001b[1;33m     \u001b[0mprint\u001b[0m\u001b[1;33m(\u001b[0m\u001b[0mb\u001b[0m\u001b[1;33m[\u001b[0m\u001b[0miter\u001b[0m\u001b[1;33m]\u001b[0m\u001b[1;33m)\u001b[0m\u001b[1;33m\u001b[0m\u001b[1;33m\u001b[0m\u001b[0m\n\u001b[0m\u001b[0;32m      5\u001b[0m     \u001b[0miter\u001b[0m \u001b[1;33m=\u001b[0m \u001b[0miter\u001b[0m \u001b[1;33m+\u001b[0m \u001b[1;36m1\u001b[0m\u001b[1;33m\u001b[0m\u001b[1;33m\u001b[0m\u001b[0m\n",
      "\u001b[1;31mIndexError\u001b[0m: array index out of range"
     ]
    }
   ],
   "source": [
    "iter = 0\n",
    "\n",
    "while iter<=len(b):\n",
    "    print(b[iter])\n",
    "    iter = iter + 1"
   ]
  },
  {
   "cell_type": "code",
   "execution_count": null,
   "id": "3b919d50",
   "metadata": {},
   "outputs": [],
   "source": []
  }
 ],
 "metadata": {
  "kernelspec": {
   "display_name": "Python 3",
   "language": "python",
   "name": "python3"
  },
  "language_info": {
   "codemirror_mode": {
    "name": "ipython",
    "version": 3
   },
   "file_extension": ".py",
   "mimetype": "text/x-python",
   "name": "python",
   "nbconvert_exporter": "python",
   "pygments_lexer": "ipython3",
   "version": "3.8.8"
  }
 },
 "nbformat": 4,
 "nbformat_minor": 5
}
